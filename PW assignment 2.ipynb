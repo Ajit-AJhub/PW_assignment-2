{
 "cells": [
  {
   "cell_type": "code",
   "execution_count": null,
   "id": "d0940c14-0caf-4b84-a0e2-e349bcd5028a",
   "metadata": {},
   "outputs": [],
   "source": [
    "Q1. How do you comment code in Python? What are the different types of comments?\n",
    "\n",
    "Ans1- We can add comments to our code to provide explanations or make notes for yourself or other developers who may read your code.\n",
    "Comments are lines of text that are ignored by the Python interpreter when the code is executed. \n",
    "\n",
    "Python supports two types of comments:\n",
    "\n",
    "Single-line comments: Single-line comments start with the hash character \n",
    "(#) and continue until the end of the line.\n",
    "Everything after the # symbol on the same line is considered a comment.\n",
    "\n",
    "It's considered good practice to include comments in your code to provide clarity and improve its readability, \n",
    "especially for complex or non-intuitive sections of code.\n"
   ]
  },
  {
   "cell_type": "code",
   "execution_count": null,
   "id": "c3de2276-d545-4709-9442-8f593115359c",
   "metadata": {},
   "outputs": [],
   "source": [
    "# This is a single-line comment\n",
    "x = 5  # This is also a comment\n"
   ]
  },
  {
   "cell_type": "code",
   "execution_count": null,
   "id": "911b562c-c70f-4796-8bbf-c027e05a7401",
   "metadata": {},
   "outputs": [],
   "source": [
    "Multi-line comments: Multi-line comments are used for longer comments that span across multiple lines. \n",
    "Python does not have a built-in syntax for multi-line comments like some other programming languages. \n",
    "However, we can use string literals (triple quotes) to achieve a similar effect. Even though these strings are not technically comments, \n",
    "they are commonly used to add multi-line comments.\n"
   ]
  },
  {
   "cell_type": "code",
   "execution_count": 2,
   "id": "5fc6bcce-2c5a-451f-8d69-3175a11a6a7c",
   "metadata": {},
   "outputs": [
    {
     "data": {
      "text/plain": [
       "'\\nThis is a multi-line comment.\\nyou can make it by this.\\n'"
      ]
     },
     "execution_count": 2,
     "metadata": {},
     "output_type": "execute_result"
    }
   ],
   "source": [
    "\"\"\"\n",
    "This is a multi-line comment.\n",
    "you can make it by this.\n",
    "\"\"\""
   ]
  },
  {
   "cell_type": "code",
   "execution_count": null,
   "id": "fe2fe8b9-8df7-4a94-b928-7f93cc95b8e8",
   "metadata": {},
   "outputs": [],
   "source": [
    "Q2. What are variables in Python? How do you declare and assign values to variables?\n",
    "\n",
    "Ans2-In Python, variables are used to store data values. \n",
    "They act as containers that hold information which can be used and manipulated throughout a program. \n",
    "Variables can hold various types of data such as numbers, strings, lists, or even more complex data structures.\n",
    "\n",
    "To declare and assign values to variables in Python, we simply need to choose a name for the variable and \n",
    "use the assignment operator (=) to assign a value to it. Here's an example:\n"
   ]
  },
  {
   "cell_type": "code",
   "execution_count": 3,
   "id": "6a696cec-1251-4100-8843-67214365167a",
   "metadata": {},
   "outputs": [],
   "source": [
    "# Variable declaration and assignment\n",
    "age = 25\n",
    "name = \"Ajit Vishwakarma\"\n",
    "is_student = True\n"
   ]
  },
  {
   "cell_type": "code",
   "execution_count": 7,
   "id": "6684f462-7188-4608-ae40-1469697fd057",
   "metadata": {},
   "outputs": [
    {
     "name": "stdout",
     "output_type": "stream",
     "text": [
      "25\n"
     ]
    }
   ],
   "source": [
    "print(age)"
   ]
  },
  {
   "cell_type": "code",
   "execution_count": null,
   "id": "d15fd76e-bb8d-409b-a594-a5f515a32a10",
   "metadata": {},
   "outputs": [],
   "source": [
    "Python is a dynamically typed language, which means we don't need to explicitly declare the type of a variable. \n",
    "The type of the variable is inferred from the value assigned to it.\n",
    "\n",
    "We can also assign a new value to an existing variable:\n",
    "\n",
    "age = 25 \n",
    "age = 30  \n",
    "In the above example, the age variable is first assigned the value 25, \n",
    "but it is later reassigned to the value 30. The new value overwrites the previous one."
   ]
  },
  {
   "cell_type": "code",
   "execution_count": null,
   "id": "7b16ed90-eacd-4c49-b0e9-4505f760d5a0",
   "metadata": {},
   "outputs": [],
   "source": [
    "Q3. How do you convert one data type to another in Python?\n",
    "\n",
    "Ans-we can convert one data type to another using type conversion functions or constructors. \n",
    "Here are some common methods for converting data types:\n",
    "\n",
    "1.int(): This function converts a value to an integer. \n",
    "It can convert numeric strings or floating-point numbers to integers by discarding the decimal part.\n",
    "\n",
    "num_str = \"10\"\n",
    "num_int = int(num_str)  "
   ]
  },
  {
   "cell_type": "code",
   "execution_count": 10,
   "id": "e42a1414-13d7-4e59-8571-f5475bc4c6dd",
   "metadata": {},
   "outputs": [],
   "source": [
    "num_str = \"10\"\n",
    "num_int = int(num_str)"
   ]
  },
  {
   "cell_type": "code",
   "execution_count": 14,
   "id": "977245d9-92d1-438f-85dc-b23af170dd79",
   "metadata": {},
   "outputs": [
    {
     "name": "stdout",
     "output_type": "stream",
     "text": [
      "10\n"
     ]
    }
   ],
   "source": [
    "print(num_int)"
   ]
  },
  {
   "cell_type": "code",
   "execution_count": null,
   "id": "108cebda-4e26-47d0-b149-254c36b44b8b",
   "metadata": {},
   "outputs": [],
   "source": [
    "2.float(): This function converts a value to a floating-point number. \n",
    "It can convert integers or numeric strings to floats.\n",
    "\n",
    "num_int = 10\n",
    "num_float = float(num_int)  "
   ]
  },
  {
   "cell_type": "code",
   "execution_count": 12,
   "id": "bf724a8e-c1bf-4420-92fe-342f9701389a",
   "metadata": {},
   "outputs": [],
   "source": [
    "num_int = 10\n",
    "num_float = float(num_int)"
   ]
  },
  {
   "cell_type": "code",
   "execution_count": 13,
   "id": "f25c79a1-0c04-43bc-a630-3cf5b67712c3",
   "metadata": {},
   "outputs": [
    {
     "name": "stdout",
     "output_type": "stream",
     "text": [
      "10.0\n"
     ]
    }
   ],
   "source": [
    "print(num_float)"
   ]
  },
  {
   "cell_type": "code",
   "execution_count": null,
   "id": "095f4c6f-c9a5-40b1-9e24-03bbc834995c",
   "metadata": {},
   "outputs": [],
   "source": [
    "3.str(): This function converts a value to a string. \n",
    "It can convert numbers, booleans, or other data types to their string representations.\n",
    "\n",
    "num = 10\n",
    "num_str = str(num)  "
   ]
  },
  {
   "cell_type": "code",
   "execution_count": 15,
   "id": "54d63799-83c0-4637-b451-86ce4db6bd9e",
   "metadata": {},
   "outputs": [],
   "source": [
    "num = 10\n",
    "num_str = str(num)"
   ]
  },
  {
   "cell_type": "code",
   "execution_count": 17,
   "id": "9be52740-15a4-4ac0-81b3-9fac2447fc73",
   "metadata": {},
   "outputs": [
    {
     "name": "stdout",
     "output_type": "stream",
     "text": [
      "10\n"
     ]
    }
   ],
   "source": [
    "print(str(num))"
   ]
  },
  {
   "cell_type": "code",
   "execution_count": null,
   "id": "97986556-90cc-4df9-a1a4-7d39acb2d80f",
   "metadata": {},
   "outputs": [],
   "source": [
    "list(), tuple(), set(): These functions convert a sequence-like object or an iterable to a list, tuple, or set, respectively.\n",
    "\n",
    "my_string = \"Hello\"\n",
    "my_list = list(my_string) \n",
    "my_tuple = tuple(my_string)  \n",
    "my_set = set(my_string)  "
   ]
  },
  {
   "cell_type": "code",
   "execution_count": 18,
   "id": "d4e52d7d-752a-4792-95c6-2b388a85b6a0",
   "metadata": {},
   "outputs": [],
   "source": [
    "my_string = \"Hello\""
   ]
  },
  {
   "cell_type": "code",
   "execution_count": 19,
   "id": "c38fb253-e41a-4749-85c9-c727b741e11c",
   "metadata": {},
   "outputs": [],
   "source": [
    "my_list = list(my_string)"
   ]
  },
  {
   "cell_type": "code",
   "execution_count": 20,
   "id": "f15bc806-f559-43e4-a5ad-f67305d46a33",
   "metadata": {},
   "outputs": [
    {
     "name": "stdout",
     "output_type": "stream",
     "text": [
      "['H', 'e', 'l', 'l', 'o']\n"
     ]
    }
   ],
   "source": [
    "print(my_list)"
   ]
  },
  {
   "cell_type": "code",
   "execution_count": 21,
   "id": "c777688c-ec0d-4c32-bff4-e7460427b614",
   "metadata": {},
   "outputs": [],
   "source": [
    "my_tuple = tuple(my_string)"
   ]
  },
  {
   "cell_type": "code",
   "execution_count": 22,
   "id": "59b5aa30-4401-4f08-83a8-40489652e171",
   "metadata": {},
   "outputs": [
    {
     "name": "stdout",
     "output_type": "stream",
     "text": [
      "('H', 'e', 'l', 'l', 'o')\n"
     ]
    }
   ],
   "source": [
    "print(my_tuple)"
   ]
  },
  {
   "cell_type": "code",
   "execution_count": 23,
   "id": "1cf8db61-ee84-411b-87e5-dbafe0750223",
   "metadata": {},
   "outputs": [],
   "source": [
    "my_set = set(my_string)"
   ]
  },
  {
   "cell_type": "code",
   "execution_count": 25,
   "id": "08628557-2a6d-4d5c-a8ac-b57dcfad5efb",
   "metadata": {},
   "outputs": [
    {
     "name": "stdout",
     "output_type": "stream",
     "text": [
      "{'l', 'e', 'H', 'o'}\n"
     ]
    }
   ],
   "source": [
    "print(my_set)"
   ]
  },
  {
   "cell_type": "code",
   "execution_count": null,
   "id": "eedf24c2-164a-44ec-87af-52d35c40f4ec",
   "metadata": {},
   "outputs": [],
   "source": [
    "5.bool(): This function converts a value to a boolean. \n",
    "It returns False for numeric values of zero, empty containers, or None, and True for any other non-empty value.\n",
    "\n",
    "zero = 0\n",
    "bool_zero = bool(zero)  # Converts the integer 0 to the boolean False\n",
    "\n",
    "non_zero = 10\n",
    "bool_non_zero = bool(non_zero)  # Converts the integer 10 to the boolean True"
   ]
  },
  {
   "cell_type": "code",
   "execution_count": 27,
   "id": "b6c7c4eb-eb05-463c-88c8-53832ed4e965",
   "metadata": {},
   "outputs": [],
   "source": [
    "zero = 0\n",
    "bool_zero = bool(zero)"
   ]
  },
  {
   "cell_type": "code",
   "execution_count": 28,
   "id": "b639fd85-6290-4a65-ae04-5dd3de203f1b",
   "metadata": {},
   "outputs": [
    {
     "name": "stdout",
     "output_type": "stream",
     "text": [
      "False\n"
     ]
    }
   ],
   "source": [
    "print(bool_zero)"
   ]
  },
  {
   "cell_type": "code",
   "execution_count": 29,
   "id": "77f842ea-4a27-4aa6-8ca0-2ca1b9096ddf",
   "metadata": {},
   "outputs": [],
   "source": [
    "non_zero = 10\n",
    "bool_non_zero = bool(non_zero)"
   ]
  },
  {
   "cell_type": "code",
   "execution_count": 30,
   "id": "ae0b6ba1-eb35-4e15-b9b8-38c86b94751d",
   "metadata": {},
   "outputs": [
    {
     "name": "stdout",
     "output_type": "stream",
     "text": [
      "True\n"
     ]
    }
   ],
   "source": [
    "print(bool_non_zero)"
   ]
  },
  {
   "cell_type": "code",
   "execution_count": null,
   "id": "7e9f7c03-a2d3-44d9-9c4b-d3123849006c",
   "metadata": {},
   "outputs": [],
   "source": [
    "Que4. How do you write and execute a Python script from the command line?\n",
    "Ans- To write and execute a Python script from the command line, we can follow these steps:\n",
    "\n",
    "Open a text editor of your choice (e.g., Notepad, Sublime Text, Visual Studio Code) and create a new file with a .py extension.\n",
    "For example, we can name it myscript.py.\n",
    "\n",
    "Write Python code in the file. \n",
    "For instance, let's say we want to print \"Hello, World!\":\n",
    "\n",
    "\n",
    "print(\"Hello, World!\")\n",
    "Save the file once we have finished writing the code.\n",
    "\n",
    "Open the command line interface on our operating system \n",
    "(e.g., Command Prompt on Windows).\n",
    "\n",
    "Navigate to the directory where our Python script is saved using the cd command. \n",
    "For example, if our script is saved on the desktop, we can use:\n",
    "\n",
    "\n",
    "\"cd Desktop\"\n",
    "\n",
    "Once we are in the correct directory, we can execute the Python script by typing the following command:\n",
    "\n",
    "\n",
    "\"python myscript.py\"\n",
    "\n",
    "This assumes that the python command is available on our system's PATH. \n",
    "If we have multiple versions of Python installed, we may need to use python3 instead.\n",
    "\n",
    "Press Enter, and the Python script will be executed. In this case, it will print \"Hello, World!\" to the console."
   ]
  },
  {
   "cell_type": "code",
   "execution_count": null,
   "id": "1b879e7e-1bb8-454b-bee2-a80875e836a8",
   "metadata": {},
   "outputs": [],
   "source": [
    "Q5. Given a list my_list = [1, 2, 3, 4, 5], write the code to slice the list and obtain the sub-list [2, 3].\n",
    "Ans5-  To slice the list my_list and obtain the sub-list [2, 3], we can use the following code:\n",
    "\n",
    "\n",
    "my_list = [1, 2, 3, 4, 5]\n",
    "sub_list = my_list[1:3]\n",
    "print(sub_list)\n",
    "The slice notation my_list[1:3] specifies the range of indices to include in the sub-list. \n",
    "In this case, 1:3 includes elements at indices 1 and 2, but excludes the element at index 3. \n",
    "he resulting sub-list [2, 3] is then assigned to the variable sub_list and printed."
   ]
  },
  {
   "cell_type": "code",
   "execution_count": 31,
   "id": "7464f7be-b5d9-4c00-ba7e-5d3c40b9e7ea",
   "metadata": {},
   "outputs": [],
   "source": [
    "my_list=[1,2,3,4,5]"
   ]
  },
  {
   "cell_type": "code",
   "execution_count": 32,
   "id": "d3368110-6799-4041-81d7-d34ad72a64b8",
   "metadata": {},
   "outputs": [],
   "source": [
    "sub_list= my_list[1:3]"
   ]
  },
  {
   "cell_type": "code",
   "execution_count": 33,
   "id": "9e3f14e9-d7a8-4958-9a16-7d598e58057d",
   "metadata": {},
   "outputs": [
    {
     "name": "stdout",
     "output_type": "stream",
     "text": [
      "[2, 3]\n"
     ]
    }
   ],
   "source": [
    "print(sub_list)"
   ]
  },
  {
   "cell_type": "code",
   "execution_count": null,
   "id": "e8540953-db79-4061-8ca1-f36047f94545",
   "metadata": {},
   "outputs": [],
   "source": [
    "Q6. What is a complex number in mathematics, and how is it represented in Python?\n",
    "\n",
    "Ans6-  In mathematics, a complex number is a number that can be expressed in the form \"a + bi\", \n",
    "where \"a\" and \"b\" are real numbers and \"i\" is the imaginary unit, which is defined as the square root of -1. \n",
    "The real part of the complex number is denoted by \"a\", and the imaginary part is denoted by \"b\". \n",
    "Complex numbers are an extension of the real numbers and allow for the representation of quantities involving both real \n",
    "and imaginary components.\n",
    "\n",
    "complex numbers can be represented using the built-in complex data type. \n",
    "The complex numbers in Python are written in the form \"a + bj\" or \"a + bj\", \n",
    "where \"a\" and \"b\" are real numbers, and \"j\" or \"J\" represents the imaginary unit. \n",
    "Here's an example of defining a complex number in Python:"
   ]
  },
  {
   "cell_type": "code",
   "execution_count": 36,
   "id": "a8c2a13a-30cd-413e-be2b-0fc3ffbef61b",
   "metadata": {},
   "outputs": [],
   "source": [
    "z = 7 + 8j\n"
   ]
  },
  {
   "cell_type": "code",
   "execution_count": 37,
   "id": "8da05b3b-7609-4782-99d7-514e4337153c",
   "metadata": {},
   "outputs": [
    {
     "data": {
      "text/plain": [
       "complex"
      ]
     },
     "execution_count": 37,
     "metadata": {},
     "output_type": "execute_result"
    }
   ],
   "source": [
    "type(z)"
   ]
  },
  {
   "cell_type": "code",
   "execution_count": null,
   "id": "a230e366-642b-4faa-a7c9-1891f4fbb974",
   "metadata": {},
   "outputs": [],
   "source": [
    "In the above example, 7 is the real part of the complex number, and 8j represents the imaginary part. \n",
    "The \"j\" denotes the imaginary unit. \n",
    "we can perform various arithmetic operations on complex numbers in Python, such as addition, subtraction, \n",
    "multiplication, division, and more. Python provides built-in functions and operators to work with complex numbers, \n",
    "allowing you to extract the real and imaginary parts, calculate the magnitude or absolute value, \n",
    "compute the conjugate, and perform other operations."
   ]
  },
  {
   "cell_type": "code",
   "execution_count": null,
   "id": "b9bfe326-89fa-4b46-9dab-b4250af755a2",
   "metadata": {},
   "outputs": [],
   "source": [
    "Q7. What is the correct way to declare a variable named age and assign the value 25 to it?\n",
    "ans7- In Python, the correct way to declare a variable named \"age\" and assign the value 25 to it is as follows:\n",
    "\n",
    "age = 25\n",
    "In Python, you don't need to specify the variable's type explicitly. \n",
    "It is dynamically typed, meaning that the type is inferred based on the value assigned to the variable. \n",
    "In this case, the variable \"age\" will be of type int because the value assigned is an integer."
   ]
  },
  {
   "cell_type": "code",
   "execution_count": 38,
   "id": "81c48c61-a38c-4ba8-ba08-cbf644fa5dc7",
   "metadata": {},
   "outputs": [],
   "source": [
    "age = 25"
   ]
  },
  {
   "cell_type": "code",
   "execution_count": 39,
   "id": "ad93f8a2-1d46-4f29-9c19-f237b6658e0f",
   "metadata": {},
   "outputs": [
    {
     "name": "stdout",
     "output_type": "stream",
     "text": [
      "25\n"
     ]
    }
   ],
   "source": [
    "print(age)"
   ]
  },
  {
   "cell_type": "code",
   "execution_count": null,
   "id": "90dfc77b-6c33-4378-a7f6-3458c6028305",
   "metadata": {},
   "outputs": [],
   "source": [
    "Q8. Declare a variable named price and assign the value 9.99 to it. What data type does this variable \n",
    "belong to?\n",
    "ans 8- \n",
    "\n",
    "The variable named \"price\" belongs to the data type called \"float\" (floating-point number) because it holds a decimal value (9.99)."
   ]
  },
  {
   "cell_type": "code",
   "execution_count": 40,
   "id": "41f546a2-b809-40eb-91f1-1dcf3ef4bb68",
   "metadata": {},
   "outputs": [],
   "source": [
    "price=9.99"
   ]
  },
  {
   "cell_type": "code",
   "execution_count": 41,
   "id": "a9510c16-0418-4dfe-973a-862d8ec3aeaf",
   "metadata": {},
   "outputs": [
    {
     "data": {
      "text/plain": [
       "float"
      ]
     },
     "execution_count": 41,
     "metadata": {},
     "output_type": "execute_result"
    }
   ],
   "source": [
    "type(price)"
   ]
  },
  {
   "cell_type": "code",
   "execution_count": null,
   "id": "aa7cd507-8680-418a-a7ce-13c4112a0bf1",
   "metadata": {},
   "outputs": [],
   "source": [
    "Q9. Create a variable named name and assign your full name to it as a string. How would you print the \n",
    "value of this variable?\n",
    "Ans 9- \n",
    "To print the value of the variable `name`, we can use the `print()` function in Python. \n",
    "Here's an example of how you can assign your full name to the variable `name` and then print its value:\n"
   ]
  },
  {
   "cell_type": "code",
   "execution_count": 42,
   "id": "97df6d40-55e3-412a-903e-7c73efc98409",
   "metadata": {},
   "outputs": [],
   "source": [
    "name = \"Ajit Vishwakarma\""
   ]
  },
  {
   "cell_type": "code",
   "execution_count": 43,
   "id": "dcb6d3a0-fa56-4e1f-8518-ffc9b129a9ac",
   "metadata": {},
   "outputs": [
    {
     "name": "stdout",
     "output_type": "stream",
     "text": [
      "Ajit Vishwakarma\n"
     ]
    }
   ],
   "source": [
    "print(name)"
   ]
  },
  {
   "cell_type": "code",
   "execution_count": null,
   "id": "212c774d-72a8-47f9-a2c9-9e30a92fc7f1",
   "metadata": {},
   "outputs": [],
   "source": [
    "Q10. Given the string \"Hello, World!\", extract the substring \"World\".\n",
    "\n",
    "Ans10- In Python, we can extract a substring from a string using slicing. \n",
    "To extract the substring \"World\" from the string \"Hello, World!\", we can use the following code:\n",
    "\n",
    "\n",
    "string = \"Hello, World!\"\n",
    "substring = string[7:12]\n",
    "print(substring)"
   ]
  },
  {
   "cell_type": "code",
   "execution_count": 44,
   "id": "99d1204f-4974-4c9a-af12-19e2db3ee170",
   "metadata": {},
   "outputs": [],
   "source": [
    "string = \"Hello, World!\""
   ]
  },
  {
   "cell_type": "code",
   "execution_count": 45,
   "id": "d26b7b1e-1cc4-4d5b-9fa7-d5d2bd7bd664",
   "metadata": {},
   "outputs": [],
   "source": [
    "substring = string[7:12]"
   ]
  },
  {
   "cell_type": "code",
   "execution_count": 46,
   "id": "3e3822fc-a068-4ba4-8dbd-23826a5141a7",
   "metadata": {},
   "outputs": [
    {
     "name": "stdout",
     "output_type": "stream",
     "text": [
      "World\n"
     ]
    }
   ],
   "source": [
    "print(substring)"
   ]
  },
  {
   "cell_type": "code",
   "execution_count": null,
   "id": "b299701b-9de7-4c14-9186-d763c5dbf873",
   "metadata": {},
   "outputs": [],
   "source": [
    "Q11. Create a variable named \"is_student\" and assign it a boolean value indicating whether you are \n",
    "currently a student or not?\n",
    "ans11- If we are currently a student, we can create the variable \"is_student\" and assign it a boolean value of True. \n",
    "If we are not a student, we can assign it a value of False. Here's an example:\n",
    "\n",
    "\n",
    "is_student = True  \n",
    "\n",
    "or\n",
    "\n",
    "is_student = False  \n"
   ]
  },
  {
   "cell_type": "code",
   "execution_count": 50,
   "id": "fbc4eb1b-d1ef-4dd6-9685-13c7533f7021",
   "metadata": {},
   "outputs": [],
   "source": [
    "is_student = True "
   ]
  },
  {
   "cell_type": "code",
   "execution_count": 51,
   "id": "431a6018-d77a-4377-a179-0588577ac39e",
   "metadata": {},
   "outputs": [
    {
     "name": "stdout",
     "output_type": "stream",
     "text": [
      "True\n"
     ]
    }
   ],
   "source": [
    "print(is_student)"
   ]
  },
  {
   "cell_type": "code",
   "execution_count": 48,
   "id": "d4c7d338-1938-4e8b-9c8e-e96660fbf54c",
   "metadata": {},
   "outputs": [],
   "source": [
    "is_student = False"
   ]
  },
  {
   "cell_type": "code",
   "execution_count": null,
   "id": "42bd675c-d36b-4754-98bd-f485151c8194",
   "metadata": {},
   "outputs": [],
   "source": []
  }
 ],
 "metadata": {
  "kernelspec": {
   "display_name": "Python 3 (ipykernel)",
   "language": "python",
   "name": "python3"
  },
  "language_info": {
   "codemirror_mode": {
    "name": "ipython",
    "version": 3
   },
   "file_extension": ".py",
   "mimetype": "text/x-python",
   "name": "python",
   "nbconvert_exporter": "python",
   "pygments_lexer": "ipython3",
   "version": "3.10.8"
  }
 },
 "nbformat": 4,
 "nbformat_minor": 5
}
